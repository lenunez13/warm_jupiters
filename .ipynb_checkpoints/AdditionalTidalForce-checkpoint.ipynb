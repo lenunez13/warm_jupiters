{
 "cells": [
  {
   "cell_type": "code",
   "execution_count": null,
   "metadata": {
    "collapsed": true
   },
   "outputs": [],
   "source": [
    "%matplotlib inline\n",
    "import rebound\n",
    "import numpy as np\n",
    "import matplotlib.pyplot as plt"
   ]
  },
  {
   "cell_type": "code",
   "execution_count": null,
   "metadata": {
    "collapsed": true
   },
   "outputs": [],
   "source": [
    "#---HD 147018---#\n",
    "sim = rebound.Simulation()\n",
    "sim.add(m=0.927)\n",
    "sim.add(a=0.238900,e=0.468600,m=0.00202983,omega=66.0054*np.pi/180.0,inc=35.614629*np.pi/180,Omega=0.,M=0.698350*np.pi/180.0)\n",
    "sim.add(a=1.9230,e=0.133000,m=0.0062886114,omega=136.865*np.pi/180.0,inc=3.3853710*np.pi/180,Omega=180.*np.pi/180.,M=-293.214*np.pi/180.0)\n",
    "#sim.move_to_com() # Moves to the center of momentum frame\n",
    "sim.move_to_hel()\n",
    "#rebound.OrbitPlot(sim, unitlabel=\"[AU]\", color=False, periastron=True, glow=True,fancy=False,slices=False);"
   ]
  },
  {
   "cell_type": "code",
   "execution_count": null,
   "metadata": {},
   "outputs": [],
   "source": [
    "ps = sim.particles\n",
    "def TidalEvolution(reb_sim):\n",
    "    e = ps[1].e\n",
    "    ps[1].e += e * (-1.67692e-21)*(1. + (15./4.)*e**2. + (15./8.)*e**4. + (5./64.)*e**6.) * (1 - e**2)**(-13./2.)\n",
    "    "
   ]
  },
  {
   "cell_type": "code",
   "execution_count": 3,
   "metadata": {
    "collapsed": true
   },
   "outputs": [],
   "source": [
    "ps = sim.particles\n",
    "#tau = 1000.\n",
    "def migrationForce(reb_sim):\n",
    "    #ps[1].ax -= ps[1].vx/tau\n",
    "    #ps[1].ay -= ps[1].vy/tau\n",
    "    #ps[1].az -= ps[1].vz/tau\n",
    "    e = ps[1].e\n",
    "    ps[1].e += e * (-1.67692e-21)*(1. + (15./4.)*e**2. + (15./8.)*e**4. + (5./64.)*e**6.) * (1 - e**2)**(-13./2.)\n",
    "\n",
    "\n",
    "sim.additional_forces = migrationForce"
   ]
  },
  {
   "cell_type": "code",
   "execution_count": null,
   "metadata": {},
   "outputs": [
    {
     "name": "stdout",
     "output_type": "stream",
     "text": [
      "0%\n",
      "1%\n",
      "2%\n"
     ]
    }
   ],
   "source": [
    "\n",
    "#sim.additional_forces = TidalEvolution\n",
    "#...Integrate Newtonian\n",
    "\n",
    "N = 1000\n",
    "nyears = 0.05e5\n",
    "times = np.linspace(0.,2.*np.pi*nyears,N)\n",
    "\n",
    "pomega1 = np.zeros(N)\n",
    "pomega2 = np.zeros(N)\n",
    "e1 = np.zeros(N) \n",
    "#e2 = np.zeros(N) \n",
    "inc1 = np.zeros(N)\n",
    "inc2 = np.zeros(N)\n",
    "Omega1 = np.zeros(N) \n",
    "Omega2 = np.zeros(N) \n",
    "\n",
    "for i,t in enumerate(times):\n",
    "    sim.integrate(t,exact_finish_time=0)\n",
    "    e1[i] = sim.particles[1].e\n",
    "    if i%10 == 0:\n",
    "        print(str(int(i/N*100))+'%')\n",
    "    \n",
    "#...Vector-addition of inclination\n",
    "deltaOmega = Omega1-Omega2\n",
    "cosimut = np.cos(inc1)*np.cos(inc2)+np.sin(inc1)*np.sin(inc2)*np.cos(deltaOmega)\n",
    "imut = np.arccos(cosimut)\n",
    "\n",
    "deltapom = np.degrees(pomega2-pomega1+2*np.pi)%360.\n",
    "\n",
    "fig = plt.figure(figsize=(9,7))\n",
    "# ax.set_title(\"HD 147018, Newtonian\")\n",
    "# ax = plt.subplot(311)\n",
    "# ax.set_xlabel(\"time (yr)\")\n",
    "# ax.set_ylabel(\"mutual inclination (deg)\")\n",
    "# plt.plot(times/(2*np.pi),np.degrees(imut),color='black')\n",
    "\n",
    "ax = plt.subplot(312)\n",
    "ax.set_xlabel('time (yr)')\n",
    "ax.set_ylabel('eccentricity 1')\n",
    "plt.plot(times/(2*np.pi),e1,color='black')\n",
    "\n",
    "# ax = plt.subplot(313)\n",
    "# ax.set_xlabel('time (yr)')\n",
    "# ax.set_ylabel('$\\Delta$pomega')\n",
    "# plt.plot(times/(2*np.pi),deltapom,color='black')\n",
    "\n",
    "#plt.savefig('HD_147018_Newt.pdf')"
   ]
  },
  {
   "cell_type": "code",
   "execution_count": null,
   "metadata": {},
   "outputs": [],
   "source": [
    "N = 1000\n",
    "nyears = 0.05e5\n",
    "times = np.linspace(0.,2.*np.pi*nyears,N)\n",
    "\n",
    "\n",
    "e1 = np.zeros(N) \n",
    "\n",
    "\n",
    "for i,t in enumerate(times):\n",
    "    sim.integrate(t,exact_finish_time=0)\n",
    "    e = sim.particles[1].e\n",
    "    sim.particles[1].e += e * (-1.67692e-21)*(1. + (15./4.)*e**2. + (15./8.)*e**4. + (5./64.)*e**6.) * (1 - e**2)**(-13./2.)\n",
    "    "
   ]
  },
  {
   "cell_type": "code",
   "execution_count": null,
   "metadata": {
    "collapsed": true
   },
   "outputs": [],
   "source": []
  }
 ],
 "metadata": {
  "kernelspec": {
   "display_name": "Python 3",
   "language": "python",
   "name": "python3"
  },
  "language_info": {
   "codemirror_mode": {
    "name": "ipython",
    "version": 3
   },
   "file_extension": ".py",
   "mimetype": "text/x-python",
   "name": "python",
   "nbconvert_exporter": "python",
   "pygments_lexer": "ipython3",
   "version": "3.6.3"
  }
 },
 "nbformat": 4,
 "nbformat_minor": 2
}
