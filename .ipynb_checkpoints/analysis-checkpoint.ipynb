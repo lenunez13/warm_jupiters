{
 "cells": [
  {
   "cell_type": "code",
   "execution_count": 1,
   "metadata": {
    "collapsed": true
   },
   "outputs": [],
   "source": [
    "%matplotlib inline\n",
    "import rebound\n",
    "import reboundx\n",
    "from reboundx import constants\n",
    "import numpy as np\n",
    "import datetime\n",
    "from astropy import constants as const\n",
    "import matplotlib.pyplot as plt\n",
    "from src import nbody as nb\n",
    "from matplotlib.ticker import FormatStrFormatter\n",
    "import pandas as pd\n",
    "\n",
    "    \n",
    "years = 2.*np.pi\n",
    "G = const.G.value\n",
    "c = const.c.value\n",
    "M_jup = const.M_jup.value\n",
    "M_sun = const.M_sun.value\n",
    "au = const.au.value\n",
    "R_jup = const.R_jup.value\n",
    "Q = 1.0e5 #tidal quality factor\n",
    "k = 0.26 #tidal Love number\n",
    "fs = 12\n",
    "\n",
    "\n",
    "blue = '#1f77b4'\n",
    "orange = '#ff7f0e'"
   ]
  },
  {
   "cell_type": "code",
   "execution_count": null,
   "metadata": {
    "collapsed": true
   },
   "outputs": [],
   "source": [
    "file = 'simulation_archive/sa20191125T090033.bin'\n",
    "sa = rebound.SimulationArchive(file)\n",
    "e1 = np.zeros(len(sa))\n",
    "a1 = np.zeros(len(sa))\n",
    "inc1 = np.zeros(len(sa))\n",
    "inc2 = np.zeros(len(sa))\n",
    "Omega1 = np.zeros(len(sa))\n",
    "Omega2 = np.zeros(len(sa))\n",
    "pomega1 = np.zeros(len(sa))\n",
    "pomega2 = np.zeros(len(sa))\n",
    "\n",
    "t = np.zeros(len(sa))\n",
    "for i, sim in enumerate(sa):\n",
    "    ps = sim.particles\n",
    "    e1[i] = ps[1].e\n",
    "    a1[i] = ps[1].a\n",
    "    inc1[i] = ps[1].inc\n",
    "    inc2[i] = ps[2].inc\n",
    "    Omega1[i] = ps[1].Omega\n",
    "    Omega2[i] = ps[2].Omega\n",
    "    pomega1[i] = ps[1].pomega\n",
    "    pomega2[i] = ps[2].pomega\n",
    "    t[i] = sim.t\n",
    "    \n",
    "t = t/(2.*np.pi)\n",
    "tmyr = t/1e6\n",
    "\n",
    "imut = np.degrees(nb.calc_imut(inc1, inc2, Omega1, Omega2))\n",
    "deltapomega = np.degrees(nb.calc_deltapomega(pomega1, pomega2))\n",
    "\n",
    "file_gr = 'simulation_archive/sa20191125T085515.bin'\n",
    "sa = rebound.SimulationArchive(file_gr) \n",
    "e1_gr = np.zeros(len(sa))\n",
    "a1_gr = np.zeros(len(sa))\n",
    "inc1_gr = np.zeros(len(sa))\n",
    "inc2_gr = np.zeros(len(sa))\n",
    "Omega1_gr = np.zeros(len(sa))\n",
    "Omega2_gr = np.zeros(len(sa))\n",
    "pomega1_gr = np.zeros(len(sa))\n",
    "pomega2_gr = np.zeros(len(sa))\n",
    "\n",
    "t_gr = np.zeros(len(sa))\n",
    "for i, sim in enumerate(sa):\n",
    "    ps = sim.particles\n",
    "    e1_gr[i] = ps[1].e\n",
    "    a1_gr[i] = ps[1].a\n",
    "    inc1_gr[i] = ps[1].inc\n",
    "    inc2_gr[i] = ps[2].inc\n",
    "    Omega1_gr[i] = ps[1].Omega\n",
    "    Omega2_gr[i] = ps[2].Omega\n",
    "    pomega1_gr[i] = ps[1].pomega\n",
    "    pomega2_gr[i] = ps[2].pomega\n",
    "    t_gr[i] = sim.t\n",
    "    \n",
    "t_gr = t_gr/(2.*np.pi)\n",
    "tmyr_gr = t_gr/1e6\n",
    "\n",
    "imut_gr = np.degrees(nb.calc_imut(inc1_gr, inc2_gr, Omega1_gr, Omega2_gr))\n",
    "deltapomega_gr = np.degrees(nb.calc_deltapomega(pomega1_gr, pomega2_gr))\n",
    "\n",
    "\n",
    "\n",
    "\n",
    "\n",
    "\n",
    "color='black'\n",
    "fontsize=12\n",
    "fig, ax = plt.subplots(nrows=3,sharex=True,figsize=(7,7))\n",
    "\n",
    "ax[0].plot(tmyr,e1,'--',color=color,alpha=0.5)\n",
    "ax[0].plot(tmyr,e1_gr,color=color)\n",
    "ax[0].set_ylabel(r'$e$', fontsize=fontsize)\n",
    "ax[0].margins(x=0)\n",
    "ax[1].plot(tmyr,imut,'--',color=color,alpha=0.5)\n",
    "ax[1].plot(tmyr,imut_gr,color=color)\n",
    "ax[1].set_ylabel(r'$i_{mut}$ (deg)', fontsize=fontsize)\n",
    "ax[1].legend(fontsize=24)\n",
    "ax[1].margins(x=0)\n",
    "#ax[1].set_ylim(0,100)\n",
    "ax[2].plot(tmyr,deltapomega,'--',color=color,alpha=0.5)\n",
    "ax[2].plot(tmyr,deltapomega_gr,color=color)\n",
    "ax[2].set_ylabel(r'$\\Delta\\varpi$ (deg)', fontsize=fontsize)\n",
    "ax[2].legend(fontsize=24)\n",
    "ax[2].margins(x=0)\n",
    "#ax[2].set_ylim(0,360)\n",
    "ax[2].set_xlabel('Time (Myr)', fontsize=fontsize)\n",
    "plt.tight_layout()\n",
    "plt.subplots_adjust(hspace=0.2)\n",
    "#plt.savefig('plots/p'+datetag+'.pdf',bbox_inches='tight')"
   ]
  },
  {
   "cell_type": "code",
   "execution_count": 18,
   "metadata": {},
   "outputs": [
    {
     "name": "stderr",
     "output_type": "stream",
     "text": [
      "/storage/home/len56/.local/lib/python3.6/site-packages/rebound/simulation.py:664: RuntimeWarning: REBOUNDx: Operators that affect particle trajectories with adaptive timesteps can give spurious results. Use sim.ri_ias15.epsilon=0 for fixed timestep with IAS, or use a different integrator.\n",
      "  warnings.warn(msg[1:], RuntimeWarning)\n"
     ]
    }
   ],
   "source": [
    "sapath = '/storage/home/len56/work/warm_jupiters/simulation_archive/'\n",
    "tides = True\n",
    "GR = False\n",
    "epsilon = 1e-6\n",
    "years = 2.*np.pi\n",
    "tmax = 1e2*years\n",
    "Nout = 1e2\n",
    "sim = rebound.Simulation()\n",
    "sim.add(m=1)\n",
    "sim.add(m=0,a=0.5,e=0.9)\n",
    "Q = 1.0e5\n",
    "notes = 'Q = '+str(Q)\n",
    "file,logpath = nb.runsim(sim,tmax,Nout,GR=GR,tides=tides,Q=Q,epsilon=epsilon,notes=notes)\n",
    "\n",
    "filepath = sapath+file\n",
    "\n",
    "\n"
   ]
  },
  {
   "cell_type": "code",
   "execution_count": 19,
   "metadata": {},
   "outputs": [
    {
     "name": "stderr",
     "output_type": "stream",
     "text": [
      "/storage/home/len56/.local/lib/python3.6/site-packages/rebound/simulationarchive.py:132: RuntimeWarning: You have to reset function pointers after creating a reb_simulation struct with a binary file.\n",
      "  warnings.warn(message, RuntimeWarning)\n"
     ]
    },
    {
     "data": {
      "text/plain": [
       "[<matplotlib.lines.Line2D at 0x2ac3f5d076d8>]"
      ]
     },
     "execution_count": 19,
     "metadata": {},
     "output_type": "execute_result"
    },
    {
     "data": {
      "image/png": "[encoded data removed]",
      "text/plain": [
       "<matplotlib.figure.Figure at 0x2ac3f5b28668>"
      ]
     },
     "metadata": {},
     "output_type": "display_data"
    }
   ],
   "source": [
    "sa = rebound.SimulationArchive(filepath)\n",
    "e = np.zeros(len(sa))\n",
    "times = np.zeros(len(sa))\n",
    "for i, sim in enumerate(sa):\n",
    "    ps = sim.particles\n",
    "    e[i] = ps[1].e\n",
    "    times[i] = sim.t\n",
    "    \n",
    "plt.plot(times,e)"
   ]
  },
  {
   "cell_type": "code",
   "execution_count": 20,
   "metadata": {},
   "outputs": [
    {
     "data": {
      "text/html": [
       "<div>\n",
       "<style>\n",
       "    .dataframe thead tr:only-child th {\n",
       "        text-align: right;\n",
       "    }\n",
       "\n",
       "    .dataframe thead th {\n",
       "        text-align: left;\n",
       "    }\n",
       "\n",
       "    .dataframe tbody tr th {\n",
       "        vertical-align: top;\n",
       "    }\n",
       "</style>\n",
       "<table border=\"1\" class=\"dataframe\">\n",
       "  <thead>\n",
       "    <tr style=\"text-align: right;\">\n",
       "      <th></th>\n",
       "      <th>date</th>\n",
       "      <th>datetag</th>\n",
       "      <th>tmax</th>\n",
       "      <th>Nout</th>\n",
       "      <th>GR</th>\n",
       "      <th>tides</th>\n",
       "      <th>epsilon</th>\n",
       "      <th>datetime</th>\n",
       "      <th>file</th>\n",
       "      <th>runtime</th>\n",
       "      <th>notes</th>\n",
       "    </tr>\n",
       "  </thead>\n",
       "  <tbody>\n",
       "    <tr>\n",
       "      <th>11</th>\n",
       "      <td>2019-11-27</td>\n",
       "      <td>20191127T103639</td>\n",
       "      <td>100.0</td>\n",
       "      <td>100.0</td>\n",
       "      <td>False</td>\n",
       "      <td>True</td>\n",
       "      <td>0.000001</td>\n",
       "      <td>10:36:39</td>\n",
       "      <td>sa20191127T103639.bin</td>\n",
       "      <td>0.297848</td>\n",
       "      <td>Q = 100000.0</td>\n",
       "    </tr>\n",
       "  </tbody>\n",
       "</table>\n",
       "</div>"
      ],
      "text/plain": [
       "          date          datetag   tmax   Nout     GR tides   epsilon  \\\n",
       "11  2019-11-27  20191127T103639  100.0  100.0  False  True  0.000001   \n",
       "\n",
       "    datetime                   file   runtime         notes  \n",
       "11  10:36:39  sa20191127T103639.bin  0.297848  Q = 100000.0  "
      ]
     },
     "execution_count": 20,
     "metadata": {},
     "output_type": "execute_result"
    }
   ],
   "source": [
    "df = pd.read_csv(logpath)\n",
    "df.iloc[-1:]"
   ]
  }
 ],
 "metadata": {
  "kernelspec": {
   "display_name": "Python 3",
   "language": "python",
   "name": "python3"
  },
  "language_info": {
   "codemirror_mode": {
    "name": "ipython",
    "version": 3
   },
   "file_extension": ".py",
   "mimetype": "text/x-python",
   "name": "python",
   "nbconvert_exporter": "python",
   "pygments_lexer": "ipython3",
   "version": "3.6.3"
  }
 },
 "nbformat": 4,
 "nbformat_minor": 2
}
