{
 "cells": [
  {
   "cell_type": "code",
   "execution_count": null,
   "metadata": {
    "collapsed": true
   },
   "outputs": [],
   "source": [
    "import rebound\n",
    "import reboundx\n",
    "from reboundx import constants\n",
    "import numpy as np\n",
    "import datetime\n",
    "from astropy import constants as const\n",
    "import matplotlib.pyplot as plt\n",
    "from src import nbody as nb\n",
    "import pandas as pd\n",
    "\n",
    "Nout = 1e3\n",
    "years = 2.*np.pi\n",
    "t_up = 6\n",
    "times = np.logspace(0,t_up,t_up+1)*years\n",
    "eps = [0,1e-9,1e-8,1e-7,1e-6,1e-5,1e-4,1e-3,1e-2,1e-1,1]\n",
    "rt1111 = np.zeros((len(eps),len(times)))\n",
    "\n",
    "\n",
    "def f(three_body,inner_mass,generalRelativity,tides,tmax,Nout,epsilon):\n",
    "    runtime = nb.runsim(nb.makesim(three_body=three_body,inner_mass=inner_mass),\n",
    "              tmax,Nout,generalRelativity=generalRelativity,tides=tides,epsilon=epsilon)[1] \n",
    "    return runtime\n",
    "\n",
    "\n",
    "for epsilon in eps:\n",
    "    for i,tmax in enumerate(times):\n",
    "        rt1111[epsilon][i] = f(1,1,1,1,tmax,Nout,epsilon)\n",
    "    \n",
    "times = times/years\n",
    "\n",
    "df = pd.DataFrame({'times (yr)':times,\n",
    "                  'rt1111(eps=0)':rt1111[0],\n",
    "                  'rt1111(eps=1e-9)':rt1111[1],\n",
    "                  'rt1111(eps=1e-8)':rt1111[2],\n",
    "                  'rt1111(eps=1e-7)':rt1111[3],\n",
    "                  'rt1111(eps=1e-6)':rt1111[4],\n",
    "                  'rt1111(eps=1e-5)':rt1111[5],\n",
    "                  'rt1111(eps=1e-4)':rt1111[6],\n",
    "                  'rt1111(eps=1e-3)':rt1111[7],\n",
    "                  'rt1111(eps=1e-2)':rt1111[8],\n",
    "                  'rt1111(eps=1e-1)':rt1111[9],\n",
    "                  'rt1111(eps=1)':rt1111[10],})\n",
    "\n",
    "\n",
    "start = datetime.datetime.now()\n",
    "datetag = start.isoformat().replace('-','').replace(':','').replace('.','')[:-6]\n",
    "savedir = 'data/'\n",
    "savetag = 'rt.eps.'+datetag\n",
    "savetype = '.csv'\n",
    "df.to_csv(savedir+savetag+savetype,index=False)"
   ]
  }
 ],
 "metadata": {
  "kernelspec": {
   "display_name": "Python 3",
   "language": "python",
   "name": "python3"
  },
  "language_info": {
   "codemirror_mode": {
    "name": "ipython",
    "version": 3
   },
   "file_extension": ".py",
   "mimetype": "text/x-python",
   "name": "python",
   "nbconvert_exporter": "python",
   "pygments_lexer": "ipython3",
   "version": "3.6.3"
  }
 },
 "nbformat": 4,
 "nbformat_minor": 2
}
