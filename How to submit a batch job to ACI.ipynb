{
 "cells": [
  {
   "cell_type": "markdown",
   "metadata": {},
   "source": [
    "Create a Python file containing the code you will submit as a batch job. In this example, we use `apsidal_evolution.py`. If your program uses `matplotlib` to plot, consider adding the line\n",
    "```python\n",
    "plt.switch_backend('agg')\n",
    "```\n",
    "\n",
    "Create a new text file with extension `.pbs`, for example, `apsidal_evolution.pbs`. Add a version of the following lines:\n",
    "\n",
    "```\n",
    "#!/bin/bash\n",
    "#PBS -l nodes=1:ppn=1\n",
    "#PBS -l walltime=00:15:00 \n",
    "#PBS -A open                 \n",
    "#PBS -m abe                  \n",
    "#PBS -M psuid123@psu.edu       \n",
    "#PBS -N aps_evo\n",
    "\n",
    "echo \"Job started on ‘hostname‘ at ‘date‘\"   \n",
    "cd $PBS_O_WORKDIR        \n",
    "python apsidal_evolution.py\n",
    "echo \"Job Ended at ‘date‘\" \n",
    "```\n",
    "\n",
    "Submit the job:\n",
    "\n",
    ">```\n",
    "$ qsub apsidal_evolution.pbs\n",
    "```\n",
    "\n",
    "Check your job's status:\n",
    ">```\n",
    "$ qstat | grep psuid123\n",
    "```\n"
   ]
  },
  {
   "cell_type": "code",
   "execution_count": null,
   "metadata": {
    "collapsed": true
   },
   "outputs": [],
   "source": []
  }
 ],
 "metadata": {
  "kernelspec": {
   "display_name": "Python 3",
   "language": "python",
   "name": "python3"
  },
  "language_info": {
   "codemirror_mode": {
    "name": "ipython",
    "version": 3
   },
   "file_extension": ".py",
   "mimetype": "text/x-python",
   "name": "python",
   "nbconvert_exporter": "python",
   "pygments_lexer": "ipython3",
   "version": "3.6.3"
  }
 },
 "nbformat": 4,
 "nbformat_minor": 2
}
