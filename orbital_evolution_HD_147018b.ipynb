{
 "cells": [
  {
   "cell_type": "code",
   "execution_count": 1,
   "metadata": {
    "collapsed": true
   },
   "outputs": [],
   "source": [
    "%matplotlib inline\n",
    "import matplotlib.pyplot as plt\n",
    "import os\n",
    "import rebound\n",
    "import reboundx\n",
    "import numpy as np\n",
    "import datetime\n",
    "\n",
    "#...Integrate WITHOUT operator:\n",
    "\n",
    "def simulation(two_planet=False):\n",
    "    sim = rebound.Simulation()\n",
    "    #...add HD 147018 parameters:\n",
    "    sim.add(m=0.927)\n",
    "    sim.add(a=0.238900,e=0.468600,m=0.0,omega=np.radians(66.0054),inc=np.radians(35.614629),Omega=0.,M=np.radians(0.698350))\n",
    "    if two_planet == True:\n",
    "        sim.add(a=1.9230,e=0.133000,m=0.0062886114,omega=np.radians(136.865),inc=np.radians(3.3853710),Omega=np.radians(180.0),M=np.radians(-293.214))\n",
    "    sim.move_to_com() # Moves to the center of momentum frame\n",
    "    #sim.move_to_hel()\n",
    "    return sim\n",
    "\n",
    "def run_simulation(sim,times,tides=False):\n",
    "    ps = sim.particles\n",
    "    if tides == True:\n",
    "        rebx = reboundx.Extras(sim)\n",
    "        mod = rebx.load_operator(\"modify_orbits_direct2\")\n",
    "        rebx.add_operator(mod)\n",
    "        ps[1].params[\"tau_e\"] = 5e4\n",
    "    Nout = len(times)    \n",
    "    e1 = np.zeros(Nout)\n",
    "    sim.integrator='ias15'\n",
    "    sim.ri_ias15.epsilon=0 #...to be used with fixed timestep in IAS\n",
    "    for i,time in enumerate(times):\n",
    "        sim.integrate(time)\n",
    "        e1[i] = ps[1].e\n",
    "    return e1"
   ]
  },
  {
   "cell_type": "code",
   "execution_count": 2,
   "metadata": {},
   "outputs": [
    {
     "name": "stdout",
     "output_type": "stream",
     "text": [
      "CPU times: user 2.91 s, sys: 0 ns, total: 2.91 s\n",
      "Wall time: 2.9 s\n"
     ]
    },
    {
     "name": "stderr",
     "output_type": "stream",
     "text": [
      "/storage/home/l/len56/rebound/rebound/simulation.py:653: RuntimeWarning: At least 10 predictor corrector loops in IAS15 did not converge. This is typically an indication of the timestep being too large.\n",
      "  warnings.warn(msg[1:], RuntimeWarning)\n"
     ]
    },
    {
     "name": "stdout",
     "output_type": "stream",
     "text": [
      "CPU times: user 15.3 s, sys: 0 ns, total: 15.3 s\n",
      "Wall time: 15.3 s\n",
      "CPU times: user 4.73 s, sys: 0 ns, total: 4.73 s\n",
      "Wall time: 4.73 s\n"
     ]
    },
    {
     "name": "stderr",
     "output_type": "stream",
     "text": [
      "/storage/home/l/len56/rebound/rebound/simulation.py:653: RuntimeWarning: At least 10 predictor corrector loops in IAS15 did not converge. This is typically an indication of the timestep being too large.\n",
      "  warnings.warn(msg[1:], RuntimeWarning)\n"
     ]
    },
    {
     "name": "stdout",
     "output_type": "stream",
     "text": [
      "CPU times: user 22.2 s, sys: 0 ns, total: 22.2 s\n",
      "Wall time: 22.2 s\n"
     ]
    },
    {
     "data": {
      "image/png": "[encoded data removed]",
      "text/plain": [
       "<matplotlib.figure.Figure at 0x2ae48482d208>"
      ]
     },
     "metadata": {},
     "output_type": "display_data"
    },
    {
     "data": {
      "image/png": "[encoded data removed]",
      "text/plain": [
       "<matplotlib.figure.Figure at 0x2ae47bfce400>"
      ]
     },
     "metadata": {},
     "output_type": "display_data"
    }
   ],
   "source": [
    "years = 2.0*np.pi\n",
    "times = np.linspace(0,1e2,101)*years\n",
    "\n",
    "sim1 = simulation(two_planet=False)\n",
    "sim2 = simulation(two_planet=True)\n",
    "\n",
    "%time e1tF = run_simulation(sim1,times,tides=False)\n",
    "%time e1tT = run_simulation(sim1,times,tides=True)\n",
    "%time e2tF = run_simulation(sim2,times,tides=False)\n",
    "%time e2tT = run_simulation(sim2,times,tides=True)\n",
    "\n",
    "\n",
    "fig = plt.figure()\n",
    "plt.plot(times/years,e1tF,label='Tides off',color='black',linewidth=2)\n",
    "plt.plot(times/years,e1tT,label='Tides on',linestyle='--',color='red',linewidth=2)\n",
    "plt.xlabel(\"Time (yr)\" )\n",
    "plt.ylabel(\"Eccentricity\")\n",
    "plt.ylim(0,1)\n",
    "plt.title('HD 147018: '+str(sim1.N)+'-body')\n",
    "plt.legend()\n",
    "#plt.tight_layout()\n",
    "plt.autoscale(enable=True, axis='x', tight=True)\n",
    "#plt.savefig(dir_name+'plots/'+savetag+'.pdf',bbox_inches='tight')\n",
    "\n",
    "fig = plt.figure()\n",
    "plt.plot(times/years,e2tF,label='Tides off',color='black',linewidth=2)\n",
    "plt.plot(times/years,e2tT,label='Tides on',linestyle='--',color='red',linewidth=2)\n",
    "plt.xlabel(\"Time (yr)\" )\n",
    "plt.ylabel(\"Eccentricity\")\n",
    "plt.ylim(0,1)\n",
    "plt.title('HD 147018: '+str(sim2.N)+'-body')\n",
    "plt.legend()\n",
    "#plt.tight_layout()\n",
    "plt.autoscale(enable=True, axis='x', tight=True)\n",
    "#plt.savefig(dir_name+'plots/'+savetag+'.pdf',bbox_inches='tight')\n",
    "\n",
    "\n",
    "\n"
   ]
  },
  {
   "cell_type": "code",
   "execution_count": null,
   "metadata": {},
   "outputs": [],
   "source": [
    "now = datetime.datetime.now().isoformat().replace('-','').replace(':','').replace('.','')[:-6]\n",
    "dir_name = '/storage/home/len56/work/warm_jupiters/'\n",
    "savetag = 'hd147018bc_tm.'+now\n",
    "header = \"Columns: time (years), eccentricity (tides off), eccentricity (tides on)\"\n",
    "np.savetxt(dir_name+'data/'+savetag+'.txt',np.c_[times/years,e1_tm_f,e1_tm_t],header=header)"
   ]
  }
 ],
 "metadata": {
  "kernelspec": {
   "display_name": "Python 3",
   "language": "python",
   "name": "python3"
  },
  "language_info": {
   "codemirror_mode": {
    "name": "ipython",
    "version": 3
   },
   "file_extension": ".py",
   "mimetype": "text/x-python",
   "name": "python",
   "nbconvert_exporter": "python",
   "pygments_lexer": "ipython3",
   "version": "3.6.3"
  }
 },
 "nbformat": 4,
 "nbformat_minor": 2
}
