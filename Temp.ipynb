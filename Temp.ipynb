{
 "cells": [
  {
   "cell_type": "code",
   "execution_count": 1,
   "metadata": {
    "collapsed": true
   },
   "outputs": [],
   "source": [
    "%matplotlib inline\n",
    "import os\n",
    "import rebound\n",
    "import numpy as np\n",
    "import matplotlib.pyplot as plt\n",
    "import reboundx\n",
    "from reboundx import constants\n",
    "import math\n",
    "import datetime\n",
    "from matplotlib.ticker import FormatStrFormatter"
   ]
  },
  {
   "cell_type": "code",
   "execution_count": 20,
   "metadata": {},
   "outputs": [
    {
     "data": {
      "image/png": "[encoded data removed]",
      "text/plain": [
       "<matplotlib.figure.Figure at 0x2b4408c42630>"
      ]
     },
     "metadata": {},
     "output_type": "display_data"
    }
   ],
   "source": [
    "global Mp0, a0, e0, inc0, ω0, Ω0, M0, A0, Mstar0, tau0\n",
    "year = 2.0*np.pi #...Converts years to rad: 1 = (2pi rad)/(1 year)\n",
    "days = 2.0*np.pi/365.0 #...Converts days to rad: 1 = (2pi rad)/(365 days)\n",
    "f = open('mercury/big.in', 'r').readlines()\n",
    "Mp0 = 0.0 #float(f[6].split()[2])\n",
    "a0 = float(f[7].split()[0])\n",
    "e0 = float(f[7].split()[1])\n",
    "inc0 = np.radians(float(f[7].split()[2]))\n",
    "ω0 = float(f[7].split()[3])\n",
    "Ω0 = float(f[7].split()[4])\n",
    "M0 = float(f[8].split()[0])\n",
    "A0 = 1.0\n",
    "Mstar0 = 1.0\n",
    "tau0 = 1.0e5*year\n",
    "\n",
    "\n",
    "def setup_system(a,e,inc,ω,Ω,M,Mstar,Mp):\n",
    "    sim = rebound.Simulation()\n",
    "    sim.units = ('days', 'AU', 'Msun')\n",
    "    sim.add(m=Mstar)\n",
    "    sim.add(a=a,e=e,inc=inc,omega=ω,Omega=Ω,M=M,m=Mp)\n",
    "    sim.move_to_com()\n",
    "    return sim\n",
    "\n",
    "sim = setup_system(a0, e0, inc0, ω0, Ω0, M0, Mstar0, Mp0)\n",
    "fig = rebound.OrbitPlot(sim)\n",
    "\n"
   ]
  },
  {
   "cell_type": "code",
   "execution_count": 25,
   "metadata": {},
   "outputs": [
    {
     "data": {
      "text/plain": [
       "32.66957015633598"
      ]
     },
     "execution_count": 25,
     "metadata": {},
     "output_type": "execute_result"
    }
   ],
   "source": [
    "ps = sim.particles\n",
    "ps[1].P\n"
   ]
  },
  {
   "cell_type": "code",
   "execution_count": 17,
   "metadata": {},
   "outputs": [],
   "source": [
    "sim = rebound.Simulation()\n",
    "sim.ad"
   ]
  },
  {
   "cell_type": "code",
   "execution_count": null,
   "metadata": {
    "collapsed": true
   },
   "outputs": [],
   "source": []
  }
 ],
 "metadata": {
  "kernelspec": {
   "display_name": "Python 3",
   "language": "python",
   "name": "python3"
  },
  "language_info": {
   "codemirror_mode": {
    "name": "ipython",
    "version": 3
   },
   "file_extension": ".py",
   "mimetype": "text/x-python",
   "name": "python",
   "nbconvert_exporter": "python",
   "pygments_lexer": "ipython3",
   "version": "3.6.3"
  }
 },
 "nbformat": 4,
 "nbformat_minor": 2
}
