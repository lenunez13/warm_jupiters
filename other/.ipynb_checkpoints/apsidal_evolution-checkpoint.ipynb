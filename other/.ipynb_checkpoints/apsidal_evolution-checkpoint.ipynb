{
 "cells": [
  {
   "cell_type": "code",
   "execution_count": 2,
   "metadata": {
    "collapsed": true
   },
   "outputs": [],
   "source": [
    "%matplotlib inline\n",
    "import rebound\n",
    "import numpy as np\n",
    "import matplotlib.pyplot as plt\n",
    "import reboundx\n",
    "from reboundx import constants\n",
    "import math\n",
    "import os\n",
    "Msun = 1988500 #1e24 kg\n",
    "Mjup = 1898.19 #1e24 kg\n",
    "Mj = Mjup/Msun #...Jupiter mass in Solar units\n",
    "years = 2.*np.pi\n"
   ]
  },
  {
   "cell_type": "markdown",
   "metadata": {},
   "source": [
    "# Overview\n",
    "The following parameters are based on the system HD 147018:\n",
    "\n",
    "Star: $M_{\\star} = 0.927$\n",
    "\n",
    "Planet 1: $M_1 = 0.0$, $a = 0.239\\ \\mathrm{AU}$\n",
    "\n",
    "Planet 2: $M_2 = 6.3\\times10^{-3} \\mathrm{M}_{\\odot}$, $a = 1.92\\ \\mathrm{AU}$"
   ]
  },
  {
   "cell_type": "code",
   "execution_count": 3,
   "metadata": {
    "collapsed": true
   },
   "outputs": [],
   "source": [
    "#---HD 147018---#\n",
    "def simulation():\n",
    "    sim = rebound.Simulation()\n",
    "    sim.add(m=0.927)\n",
    "    sim.add(a=0.238900,e=0.468600,m=0.0,omega=np.radians(66.0054),inc=np.radians(35.614629),Omega=0.,M=np.radians(0.698350))\n",
    "    sim.add(a=1.9230,e=0.133000,m=0.0062886114,omega=np.radians(136.865),inc=np.radians(3.3853710),Omega=np.radians(180.0),M=np.radians(-293.214))\n",
    "    return sim\n",
    "\n",
    "def run_simulation(sim,times,add_gr=False):\n",
    "    Nout = len(times)\n",
    "    e1 = np.zeros(Nout) \n",
    "    inc1 = np.zeros(Nout)\n",
    "    inc2 = np.zeros(Nout)\n",
    "    Omega1 = np.zeros(Nout) \n",
    "    Omega2 = np.zeros(Nout) \n",
    "    pomega1 = np.zeros(Nout)\n",
    "    pomega2 = np.zeros(Nout)\n",
    "    \n",
    "    sim.integrator = \"ias15\"\n",
    "    sim.ri_ias15.epsilon=0\n",
    "    sim.move_to_com()\n",
    "    ps = sim.particles\n",
    "    \n",
    "    if add_gr == True:\n",
    "        rebx = reboundx.Extras(sim)\n",
    "        gr = rebx.load_force(\"gr\")\n",
    "        rebx.add_force(gr)\n",
    "        gr.params[\"c\"] = constants.C\n",
    "        \n",
    "    for i,time in enumerate(times):\n",
    "        sim.integrate(time)\n",
    "        e1[i] = ps[1].e\n",
    "        inc1[i] = ps[1].inc\n",
    "        inc2[i] = ps[2].inc\n",
    "        Omega1[i] = ps[1].Omega\n",
    "        Omega2[i] = ps[2].Omega\n",
    "        pomega1[i] = ps[1].pomega\n",
    "        pomega2[i] = ps[2].pomega\n",
    "    return np.array([e1,inc1,inc2,Omega1,Omega2,pomega1,pomega2])\n",
    "\n",
    "#...Vector-addition of inclination\n",
    "def vector_addition(inc1,inc2,Omega1,Omega2,pomega1,pomega2):\n",
    "    deltaOmega = Omega1-Omega2\n",
    "    cosimut = np.cos(inc1)*np.cos(inc2)+np.sin(inc1)*np.sin(inc2)*np.cos(deltaOmega)\n",
    "    imut = np.degrees(np.arccos(cosimut))\n",
    "    deltapom = np.degrees(pomega2-pomega1+2*np.pi)%360.\n",
    "    return np.array([deltapom,imut])"
   ]
  },
  {
   "cell_type": "code",
   "execution_count": 9,
   "metadata": {},
   "outputs": [
    {
     "name": "stdout",
     "output_type": "stream",
     "text": [
      "CPU times: user 23.1 s, sys: 2 ms, total: 23.1 s\n",
      "Wall time: 23.1 s\n",
      "CPU times: user 47.4 s, sys: 0 ns, total: 47.4 s\n",
      "Wall time: 52.9 s\n"
     ]
    }
   ],
   "source": [
    "times = np.linspace(0.,0.05*1e4,500)*years\n",
    "sim = simulation()\n",
    "%time data = run_simulation(sim,times,add_gr=False)\n",
    "sim = simulation()\n",
    "%time data_GR = run_simulation(sim,times,add_gr=True)"
   ]
  },
  {
   "cell_type": "code",
   "execution_count": 11,
   "metadata": {},
   "outputs": [
    {
     "data": {
      "image/png": "[encoded data removed]",
      "text/plain": [
       "<matplotlib.figure.Figure at 0x2b184b9c14a8>"
      ]
     },
     "metadata": {},
     "output_type": "display_data"
    }
   ],
   "source": [
    "e1,inc1,inc2,Omega1,Omega2,pomega1,pomega2 = data\n",
    "e1_GR,inc1_GR,inc2_GR,Omega1_GR,Omega2_GR,pomega1_GR,pomega2_GR = data_GR\n",
    "deltapom,imut = vector_addition(inc1,inc2,Omega1,Omega2,pomega1,pomega2)\n",
    "deltapom_GR,imut_GR = vector_addition(inc1_GR,inc2_GR,Omega1_GR,Omega2_GR,pomega1_GR,pomega2_GR)\n",
    "\n",
    "fig, [ax1, ax2, ax3] = plt.subplots(3, 1, sharex=True) \n",
    "plt.subplots_adjust(wspace=0, hspace=0.05)\n",
    "ax = plt.gca()\n",
    "ax.autoscale(enable=True, axis='x', tight=True)\n",
    "\n",
    "\n",
    "ax1.plot(times/(1e6*years),imut_GR,color='red',label='GR')\n",
    "ax1.plot(times/(1e6*years),imut,label=\"Newtonian\",color='black')\n",
    "ax1.set_ylabel(r'$i_{\\mathrm{mut}}$ (deg)')\n",
    "\n",
    "ax2.plot(times/(1e6*years),e1_GR,color='red',label=\"GR\")\n",
    "ax2.plot(times/(1e6*years),e1,label=\"Newtonian\",color='black')\n",
    "ax2.set_ylabel(r'$e$')\n",
    "\n",
    "\n",
    "ax3.plot(times/(1e6*years),deltapom_GR,color='red',label=\"GR\")\n",
    "ax3.plot(times/(1e6*years),deltapom,label=\"Newtonian\",color='black')\n",
    "ax3.set_ylabel(r'$\\Delta\\varpi$ (deg)')\n",
    "ax3.set_xlabel('Time (Myr)')\n",
    "ax3.legend(loc=\"lower left\")\n",
    "\n",
    "dir_name = \"plots/\"\n",
    "savetag = 'apsidal_evolution'\n",
    "savetype = '.pdf'\n",
    "#plt.savefig('plots/'+savetag+savetype,bbox_inches='tight')\n",
    "\n"
   ]
  },
  {
   "cell_type": "code",
   "execution_count": null,
   "metadata": {
    "collapsed": true
   },
   "outputs": [],
   "source": [
    "data"
   ]
  }
 ],
 "metadata": {
  "kernelspec": {
   "display_name": "Python 3",
   "language": "python",
   "name": "python3"
  },
  "language_info": {
   "codemirror_mode": {
    "name": "ipython",
    "version": 3
   },
   "file_extension": ".py",
   "mimetype": "text/x-python",
   "name": "python",
   "nbconvert_exporter": "python",
   "pygments_lexer": "ipython3",
   "version": "3.6.3"
  }
 },
 "nbformat": 4,
 "nbformat_minor": 2
}
