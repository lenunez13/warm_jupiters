{
 "cells": [
  {
   "cell_type": "markdown",
   "metadata": {},
   "source": [
    "See [REBOUNDx documentation](https://reboundx.readthedocs.io/en/latest/add_effect.html) for complete recipe.\n",
    "\n",
    "Clone the REBOUND respository:\n",
    "\n",
    "> `git clone git@github.com:hannorein/rebound.git`\n",
    "\n",
    "Go to `rebound/` and install it with\n",
    "\n",
    "> `pip install -e . --user`\n",
    "\n",
    "In `rebound/`, clone REBOUNDx:\n",
    "\n",
    "> `git clone https://github.com/dtamayo/reboundx.git`\n",
    "\n",
    "Similarly, go to `reboundx/` and install it with\n",
    "\n",
    "> `pip install -e . --user`\n",
    "\n",
    "Set up the environment variable by adding the line\n",
    "\n",
    "> `export REB_DIR=/storage/home/len56/rebound`\n",
    "\n",
    "to your `.bashrc` file in the home directory, followed by a `source ~/.bashrc`.\n",
    "\n",
    "Go to `reboundx/src` and copy `modify_orbits_direct.c` as `modify_orbits_direct2.c`. Open `modify_orbits_direct2.c` and replace every text `modify_orbits_direct` with `modify_orbits_direct2` while changing nothing else. \n",
    "\n",
    "Open `core.c` and find the `struct` labeled `rebx_load_operator`. Add the lines\n",
    "\n",
    "> ```c\n",
    "else if (strcmp(name, \"modify_orbits_direct2\") == 0){\n",
    "    operator->step_function = rebx_modify_orbits_direct2;\n",
    "    operator->operator_type = REBX_OPERATOR_UPDATER;\n",
    "}\n",
    "```\n",
    "\n",
    "which are a copy of the `else if` statement corresponding to `modify_orbits_direct`.\n",
    "\n",
    "Open `core.h`, and in the section \"Operator prototypes\" add the line\n",
    "\n",
    "> ```c \n",
    "void rebx_modify_orbits_direct2(struct reb_simulation* const sim, struct rebx_operator* const operator, const double dt);\n",
    "```\n",
    "\n",
    "Go to `reboundx/examples` and copy the directory `modify_orbits` and name it `modify_orbits2`.\n",
    "\n",
    "Go to `reboundx/scripts` and run\n",
    "\n",
    "> `python add_new_effect.py`\n",
    "\n",
    "Go to `reboundx/examples/modify_orbits2/`, open `problem.c`, and replace edit the `rebx_load_operator` command as\n",
    "\n",
    "> ```c\n",
    "rebx_load_operator(rebx, \"modify_orbits_direct2\")\n",
    "```\n",
    "\n",
    "In this directory run\n",
    "\n",
    "> `make && make clean && ./rebound`\n",
    "\n",
    "Go to `reboundx/` and re-run \n",
    "\n",
    "> `pip install -e . --user`\n",
    "\n",
    "Likewise, go to `rebound/` and re-run \n",
    "\n",
    "> `pip install -e . --user`\n",
    "\n",
    "Exit terminal. Shutdown Jupyter kernals. Reboot all pages if possible. \n",
    "\n",
    "To test the added effect, try running the code [EccAndIncDamping.ipynb](https://github.com/dtamayo/reboundx/blob/master/ipython_examples/EccAndIncDamping.ipynb) but instead incorporate the new operator by editting the definition of `mod` as\n",
    "\n",
    "> ```python\n",
    "mod = rebx.load_operator(\"modify_orbits_direct2\")\n",
    "```\n",
    "\n",
    "\n",
    "\n"
   ]
  },
  {
   "cell_type": "markdown",
   "metadata": {
    "collapsed": true
   },
   "source": [
    "## Incorporating changes to `modify_orbits_direct2.c`\n",
    "\n",
    "If changes are made to the source file `rebound/reboundx/src/modify_orbits_direct2.c`, they must be incorporated into REBOUNDx. This task is accomplished by going to `reboundx/`, re-installing with \n",
    "\n",
    "> `pip install -e . --user`\n",
    "\n",
    "and restarting the Jupyter notebook kernal, re-importing all modules. "
   ]
  },
  {
   "cell_type": "code",
   "execution_count": null,
   "metadata": {
    "collapsed": true
   },
   "outputs": [],
   "source": []
  }
 ],
 "metadata": {
  "kernelspec": {
   "display_name": "Python 3",
   "language": "python",
   "name": "python3"
  },
  "language_info": {
   "codemirror_mode": {
    "name": "ipython",
    "version": 3
   },
   "file_extension": ".py",
   "mimetype": "text/x-python",
   "name": "python",
   "nbconvert_exporter": "python",
   "pygments_lexer": "ipython3",
   "version": "3.6.3"
  }
 },
 "nbformat": 4,
 "nbformat_minor": 2
}
