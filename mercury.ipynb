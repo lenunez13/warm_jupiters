{
 "cells": [
  {
   "cell_type": "code",
   "execution_count": 172,
   "metadata": {
    "collapsed": true
   },
   "outputs": [],
   "source": [
    "%matplotlib inline\n",
    "import numpy as np\n",
    "import matplotlib.pyplot as plt\n",
    "import pandas as pd\n",
    "import os"
   ]
  },
  {
   "cell_type": "code",
   "execution_count": 186,
   "metadata": {},
   "outputs": [],
   "source": [
    "if os.path.exists(\"mercury/plan1.aei\"):\n",
    "    os.rename(\"mercury/plan1.aei\",\"mercury/plan1.txt\")\n",
    "f = open('mercury/plan1.txt', 'r').readlines()[4:]\n",
    "Nout = len(f)\n",
    "times = np.zeros(Nout)\n",
    "semi = np.zeros(Nout)\n",
    "eccen = np.zeros(Nout)\n",
    "inc = np.zeros(Nout)\n",
    "peri = np.zeros(Nout)\n",
    "node = np.zeros(Nout)\n",
    "Manom = np.zeros(Nout)\n",
    "for i in range(0,Nout):\n",
    "    w = f[i].split()\n",
    "    times[i] = w[0]\n",
    "    semi[i] = w[1]\n",
    "    eccen[i] = w[2]\n",
    "    inc[i] = w[3]\n",
    "    peri[i] = w[4]\n",
    "    node[i] = w[5]\n",
    "    Manom[i] = w[6]\n",
    "\n"
   ]
  },
  {
   "cell_type": "code",
   "execution_count": 188,
   "metadata": {},
   "outputs": [
    {
     "data": {
      "text/plain": [
       "[<matplotlib.lines.Line2D at 0x2ba03575b710>]"
      ]
     },
     "execution_count": 188,
     "metadata": {},
     "output_type": "execute_result"
    },
    {
     "data": {
      "image/png": "[encoded data removed]",
      "text/plain": [
       "<matplotlib.figure.Figure at 0x2ba03564e780>"
      ]
     },
     "metadata": {},
     "output_type": "display_data"
    }
   ],
   "source": [
    "days_to_years = 365.0\n",
    "plt.plot(times/days_to_years,eccen)"
   ]
  },
  {
   "cell_type": "code",
   "execution_count": 201,
   "metadata": {},
   "outputs": [],
   "source": [
    "days = 2.0*np.pi/365.0 #...rad per day\n",
    "times = np.arange(0.0,365*days,days)\n"
   ]
  },
  {
   "cell_type": "code",
   "execution_count": 206,
   "metadata": {},
   "outputs": [],
   "source": [
    "times = np.linspace(0,365*days,365)"
   ]
  },
  {
   "cell_type": "code",
   "execution_count": 208,
   "metadata": {},
   "outputs": [
    {
     "data": {
      "text/plain": [
       "365"
      ]
     },
     "execution_count": 208,
     "metadata": {},
     "output_type": "execute_result"
    }
   ],
   "source": [
    "len(times)"
   ]
  },
  {
   "cell_type": "code",
   "execution_count": null,
   "metadata": {
    "collapsed": true
   },
   "outputs": [],
   "source": []
  }
 ],
 "metadata": {
  "kernelspec": {
   "display_name": "Python 3",
   "language": "python",
   "name": "python3"
  },
  "language_info": {
   "codemirror_mode": {
    "name": "ipython",
    "version": 3
   },
   "file_extension": ".py",
   "mimetype": "text/x-python",
   "name": "python",
   "nbconvert_exporter": "python",
   "pygments_lexer": "ipython3",
   "version": "3.6.3"
  }
 },
 "nbformat": 4,
 "nbformat_minor": 2
}
