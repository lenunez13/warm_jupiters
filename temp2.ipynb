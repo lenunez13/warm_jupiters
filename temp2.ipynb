{
 "cells": [
  {
   "cell_type": "code",
   "execution_count": 2,
   "metadata": {
    "collapsed": true
   },
   "outputs": [],
   "source": [
    "import numpy as np\n",
    "from src import nbody as nb\n"
   ]
  },
  {
   "cell_type": "code",
   "execution_count": 3,
   "metadata": {},
   "outputs": [
    {
     "name": "stdout",
     "output_type": "stream",
     "text": [
      "/storage/work/l/len56/warm_jupiters\r\n"
     ]
    }
   ],
   "source": [
    "!pwd"
   ]
  },
  {
   "cell_type": "code",
   "execution_count": 4,
   "metadata": {},
   "outputs": [
    {
     "name": "stdout",
     "output_type": "stream",
     "text": [
      "__pycache__\t\t    data\t\t     simulations\r\n",
      "all_planets.csv\t\t    mercury\t\t     src\r\n",
      "analysis.ipynb\t\t    other\t\t     ss2.bin\r\n",
      "asteroidOrbit_2938Hopi.png  plots\t\t     ss3.bin\r\n",
      "asteroidOrbit_Vesta.png     plots.ipynb\t\t     temp.bin\r\n",
      "asteroid_2938Hopi.pdf\t    runjob.pbs\t\t     temp.ipynb\r\n",
      "asteroid_2938Hopi.png\t    runjob.py\t\t     temp2.ipynb\r\n",
      "asteroid_Vesta.pdf\t    runtime_analysis2.ipynb  tutorials\r\n",
      "asteroid_Vesta.png\t    simulation_archive\r\n"
     ]
    }
   ],
   "source": [
    "!ls"
   ]
  },
  {
   "cell_type": "code",
   "execution_count": null,
   "metadata": {
    "collapsed": true
   },
   "outputs": [],
   "source": []
  }
 ],
 "metadata": {
  "kernelspec": {
   "display_name": "Python 3",
   "language": "python",
   "name": "python3"
  },
  "language_info": {
   "codemirror_mode": {
    "name": "ipython",
    "version": 3
   },
   "file_extension": ".py",
   "mimetype": "text/x-python",
   "name": "python",
   "nbconvert_exporter": "python",
   "pygments_lexer": "ipython3",
   "version": "3.6.3"
  }
 },
 "nbformat": 4,
 "nbformat_minor": 2
}
